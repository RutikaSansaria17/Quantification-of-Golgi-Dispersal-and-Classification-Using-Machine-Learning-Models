{
  "nbformat": 4,
  "nbformat_minor": 0,
  "metadata": {
    "colab": {
      "provenance": [],
      "collapsed_sections": [
        "6wiOWGUrd48e",
        "tmIvRnDsem0p",
        "KICRNCbdes28",
        "xiGTSALKetgs",
        "6EgxwrI9et80"
      ],
      "include_colab_link": true
    },
    "kernelspec": {
      "name": "python3",
      "display_name": "Python 3"
    },
    "language_info": {
      "name": "python"
    }
  },
  "cells": [
    {
      "cell_type": "markdown",
      "metadata": {
        "id": "view-in-github",
        "colab_type": "text"
      },
      "source": [
        "<a href=\"https://colab.research.google.com/github/RutikaSansaria17/Quantification-of-Golgi-Dispersal-and-Classification-Using-Machine-Learning-Models/blob/main/classification_using_machine_learning_models.ipynb\" target=\"_parent\"><img src=\"https://colab.research.google.com/assets/colab-badge.svg\" alt=\"Open In Colab\"/></a>"
      ]
    },
    {
      "cell_type": "code",
      "execution_count": null,
      "metadata": {
        "id": "NTTjUZ1_aYIq"
      },
      "outputs": [],
      "source": [
        "#import libraries\n",
        "import pandas as pd\n",
        "from sklearn.linear_model import LogisticRegression\n",
        "from sklearn.tree import DecisionTreeClassifier\n",
        "from sklearn.ensemble import RandomForestClassifier\n",
        "from sklearn.svm import SVC\n",
        "from sklearn.naive_bayes import GaussianNB\n",
        "from sklearn.metrics import accuracy_score, precision_score, recall_score, f1_score\n",
        "from sklearn.metrics import cohen_kappa_score\n",
        "from sklearn.metrics import roc_auc_score\n",
        "from sklearn.metrics import confusion_matrix\n",
        "from sklearn.model_selection import train_test_split\n",
        "from sklearn.metrics import precision_recall_curve, roc_curve, confusion_matrix\n",
        "import seaborn as sns\n",
        "import matplotlib.pyplot as plt\n",
        "import numpy as np\n",
        "from sklearn import metrics\n",
        "from imblearn.metrics import specificity_score\n",
        "from imblearn.metrics import sensitivity_score\n",
        "from sklearn.metrics import roc_curve\n",
        "from sklearn.metrics import roc_auc_score\n",
        "from sklearn.metrics import precision_recall_curve\n",
        "from sklearn.preprocessing import label_binarize\n",
        "from sklearn.model_selection import GridSearchCV\n",
        "from sklearn.ensemble import GradientBoostingClassifier\n",
        "import tensorflow\n",
        "import keras\n",
        "from keras.models import Sequential\n",
        "from keras.layers import Dense"
      ]
    },
    {
      "cell_type": "code",
      "source": [
        "from google.colab import drive\n",
        "drive.mount('/content/drive')"
      ],
      "metadata": {
        "colab": {
          "base_uri": "https://localhost:8080/"
        },
        "id": "U-P3BRmnaeFg",
        "outputId": "3bbb4e49-a587-4e50-b5c9-5fe36b85451c"
      },
      "execution_count": null,
      "outputs": [
        {
          "output_type": "stream",
          "name": "stdout",
          "text": [
            "Drive already mounted at /content/drive; to attempt to forcibly remount, call drive.mount(\"/content/drive\", force_remount=True).\n"
          ]
        }
      ]
    },
    {
      "cell_type": "code",
      "source": [
        "data = pd.read_excel(\"path.xlsx\")"
      ],
      "metadata": {
        "id": "4bbzk3hCanXc"
      },
      "execution_count": null,
      "outputs": []
    },
    {
      "cell_type": "code",
      "source": [
        "data"
      ],
      "metadata": {
        "id": "xhp_Xlqcbmj2"
      },
      "execution_count": null,
      "outputs": []
    },
    {
      "cell_type": "code",
      "source": [
        "# Extract the feature(s) and the label(s) from the DataFrame\n",
        "X = data.iloc[:, :-1]\n",
        "y = data.iloc[:, -1]\n",
        "# Split the data into training and testing sets\n",
        "X_train, X_test, y_train, y_test = train_test_split(X, y, test_size=0.3, random_state=1)\n",
        "print(y_train)"
      ],
      "metadata": {
        "id": "oMkyQhmkasrS"
      },
      "execution_count": null,
      "outputs": []
    },
    {
      "cell_type": "markdown",
      "source": [
        "Logistic Regression"
      ],
      "metadata": {
        "id": "YRKgwlUOGEcn"
      }
    },
    {
      "cell_type": "code",
      "source": [
        "# Train a logistic regression model on the training set\n",
        "model = LogisticRegression(max_iter=1000000)\n",
        "model.fit(X_train, y_train)"
      ],
      "metadata": {
        "id": "DYvMfIQc1cGI"
      },
      "execution_count": null,
      "outputs": []
    },
    {
      "cell_type": "code",
      "source": [
        "# Evaluate the performance of the model on the testing set RS=1\n",
        "y_pred = model.predict(X_test)\n",
        "accuracy = accuracy_score(y_test, y_pred)\n",
        "precision = precision_score(y_test, y_pred)\n",
        "recall = recall_score(y_test, y_pred)\n",
        "f1 = f1_score(y_test, y_pred)\n",
        "kappa = cohen_kappa_score(y_test, y_pred)\n",
        "specificity = specificity_score(y_test, y_pred)\n",
        "sensitive = sensitivity_score(y_test, y_pred)\n",
        "mae_lR = metrics.mean_absolute_error(y_test, y_pred)\n",
        "mse_LR = metrics.mean_squared_error(y_test, y_pred)\n",
        "print(f\"Accuracy Logistic Regression: {accuracy:.2f}\")\n",
        "print(f\"Precision Logistic Regression: {precision:.2f}\")\n",
        "print(f\"Recall Logistic Regression: {recall:.2f}\")\n",
        "print(f\"F1 score Logistic Regression: {f1:.2f}\")\n",
        "print('Cohens kappa: %f' % kappa)\n",
        "print(f\"Specificity Logistic Regression: {specificity:.2f}\")\n",
        "print(f\"sensitive Logistic Regression: {sensitive:.2f}\")\n",
        "print(f\"mae Logistic Regression: {mae_lR:.2f}\")\n",
        "print(f\"mse Logistic Regression: {mse_LR:.2f}\")"
      ],
      "metadata": {
        "id": "uizLng671hc9"
      },
      "execution_count": null,
      "outputs": []
    },
    {
      "cell_type": "code",
      "source": [
        "cm = confusion_matrix(y_test, y_pred)\n",
        "# Creating a dataframe for a array-formatted Confusion matrix,so it will be easy for plotting.\n",
        "cm_df = pd.DataFrame(cm,\n",
        "                     index = ['Empty Vector','CARP1 WT'],\n",
        "                     columns = ['Empty Vector','CARP1 WT'])\n",
        "# Plotting the confusion matrix\n",
        "plt.figure(figsize=(5,5))\n",
        "sns.heatmap(cm_df, annot=True)\n",
        "plt.title('Logistic Regression ')\n",
        "plt.ylabel('Actual Values')\n",
        "plt.xlabel('Predicted Values')\n",
        "plt.show()\n",
        "sns.heatmap(cm_df/np.sum(cm_df), annot=True,\n",
        "            fmt='.2%', cmap='Blues')\n",
        "plt.title('Logistic Regression')\n",
        "plt.ylabel('Actual Values')\n",
        "plt.xlabel('Predicted Values')\n",
        "plt.show()"
      ],
      "metadata": {
        "id": "QH9qm2qC1oPx"
      },
      "execution_count": null,
      "outputs": []
    },
    {
      "cell_type": "code",
      "source": [
        "pred_prob = model.predict_proba(X_test)\n",
        "\n",
        "# roc curve for tpr = fpr\n",
        "random_probs = [0 for i in range(len(y_test))]\n",
        "p_fpr, p_tpr, _ = roc_curve(y_test, random_probs, pos_label=1)\n",
        "\n",
        "# roc curve for classes\n",
        "fpr = {}\n",
        "tpr = {}\n",
        "thresh ={}\n",
        "n_class = 2\n",
        "\n",
        "# for i in range(n_class):\n",
        "#     fpr[i], tpr[i], thresh[i] = roc_curve(y_test, pred_prob[:,i], pos_label=i)\n",
        "\n",
        "fpr[0], tpr[0], thresh[0] = roc_curve(y_test, pred_prob[:,0], pos_label=1)\n",
        "fpr[1], tpr[1], thresh[1] = roc_curve(y_test, pred_prob[:,1], pos_label=1)\n",
        "\n",
        "# plotting\n",
        "plt.plot(fpr[0], tpr[0], linestyle='--',color='orange', label='Empty Vector')\n",
        "plt.plot(fpr[1], tpr[1], linestyle='--',color='green', label='CARP1 WT')\n",
        "\n",
        "#plt.plot(p_fpr, p_tpr, linestyle='-', color='red')\n",
        "plt.title('Logistic Regression')\n",
        "plt.xlabel('False Positive Rate')\n",
        "plt.ylabel('True Positive Rate')\n",
        "plt.legend(loc='best')\n",
        "plt.show()\n",
        "plt.savefig('Multiclass ROC',dpi=300);"
      ],
      "metadata": {
        "id": "CkEzK2ZG1qyT"
      },
      "execution_count": null,
      "outputs": []
    },
    {
      "cell_type": "code",
      "source": [
        "# precision recall curve\n",
        "precision = dict()\n",
        "recall = dict()\n",
        "\n",
        "precision[0], recall[0], _ = precision_recall_curve(y_test, pred_prob[:, 0], pos_label=1)\n",
        "plt.plot(recall[0], precision[0], lw=2, label='class {}'.format(0))\n",
        "plt.xlabel(\"recall\")\n",
        "plt.ylabel(\"precision\")\n",
        "plt.legend(loc=\"best\")\n",
        "plt.title(\"precision vs. recall curve\")\n",
        "plt.show()\n",
        "\n",
        "for i in range(n_class):\n",
        "    precision[i], recall[i], _ = precision_recall_curve(y_test, pred_prob[:, i],pos_label=1)\n",
        "\n",
        "plt.plot(recall[0], precision[0],  linestyle='--',color='orange', label='Empty Vector')\n",
        "plt.plot(recall[1], precision[1],  linestyle='--',color='green', label='CARP1 WT')\n",
        "\n",
        "plt.xlabel(\"Recall\")\n",
        "plt.ylabel(\"Precision\")\n",
        "plt.legend(loc=\"best\")\n",
        "plt.title(\"Logistic Regression\")\n",
        "plt.show()"
      ],
      "metadata": {
        "id": "i6vICdD21yFb"
      },
      "execution_count": null,
      "outputs": []
    },
    {
      "cell_type": "markdown",
      "source": [
        "### **DecisionTreeClassifier**"
      ],
      "metadata": {
        "id": "6wiOWGUrd48e"
      }
    },
    {
      "cell_type": "code",
      "source": [
        "# Train a DecisionTreeClassifier on the training data rs=51\n",
        "model2 = DecisionTreeClassifier()\n",
        "model2.fit(X_train, y_train)\n",
        "# Make predictions on the test data\n",
        "y_pred = model2.predict(X_test)"
      ],
      "metadata": {
        "id": "Fe0KZqX3eU2i"
      },
      "execution_count": null,
      "outputs": []
    },
    {
      "cell_type": "code",
      "source": [
        "# Evaluate the performance of the model\n",
        "accuracy = accuracy_score(y_test, y_pred)\n",
        "precision = precision_score(y_test, y_pred)\n",
        "recall = recall_score(y_test, y_pred)\n",
        "f1 = f1_score(y_test, y_pred)\n",
        "kappa = cohen_kappa_score(y_test, y_pred)\n",
        "specificity = specificity_score(y_test, y_pred)\n",
        "sensitive = sensitivity_score(y_test, y_pred, average='macro')\n",
        "mae_lR = metrics.mean_absolute_error(y_test, y_pred)\n",
        "mse_LR = metrics.mean_squared_error(y_test, y_pred)\n",
        "print(f\"Accuracy Decision Tree Classifier: {accuracy:.2f}\")\n",
        "print(f\"Precision Decision Tree Classifier: {precision:.2f}\")\n",
        "print(f\"Recall Decision Tree Classifier: {recall:.2f}\")\n",
        "print(f\"F1 score Decision Tree Classifier: {f1:.2f}\")\n",
        "print('Cohens kappa: %f' % kappa)\n",
        "print(f\"Specificity Decision Tree Classifier : {specificity:.2f}\")\n",
        "print(f\"sensitive Decision Tree Classifier: {sensitive:.2f}\")\n",
        "print(f\"mae Decision Tree Classifier: {mae_lR:.2f}\")\n",
        "print(f\"mse Decision Tree Classifier: {mse_LR:.2f}\")"
      ],
      "metadata": {
        "id": "ms6DFp2ceb0R"
      },
      "execution_count": null,
      "outputs": []
    },
    {
      "cell_type": "code",
      "source": [
        "cm = confusion_matrix(y_test, y_pred)\n",
        "\n",
        "# Creating a dataframe for a array-formatted Confusion matrix,so it will be easy for plotting.\n",
        "# Creating a dataframe for a array-formatted Confusion matrix,so it will be easy for plotting.\n",
        "cm_df = pd.DataFrame(cm,\n",
        "                     index = ['Empty Vector','CARP1 WT'],\n",
        "                     columns = ['Empty Vector','CARP1 WT'])\n",
        "# Plotting the confusion matrix\n",
        "plt.figure(figsize=(5,5))\n",
        "sns.heatmap(cm_df, annot=True)\n",
        "plt.title('Decision Tree Classifier')\n",
        "plt.ylabel('Actual Values')\n",
        "plt.xlabel('Predicted Values')\n",
        "plt.show()\n",
        "sns.heatmap(cm_df/np.sum(cm_df), annot=True,\n",
        "            fmt='.2%', cmap='Blues')\n",
        "plt.title('Decision Tree Classifier')\n",
        "plt.ylabel('Actual Values')\n",
        "plt.xlabel('Predicted Values')\n",
        "plt.show()"
      ],
      "metadata": {
        "id": "OIiF299ZdylB"
      },
      "execution_count": null,
      "outputs": []
    },
    {
      "cell_type": "code",
      "source": [
        "pred_prob = model2.predict_proba(X_test)\n",
        "\n",
        "# roc curve for tpr = fpr\n",
        "random_probs = [0 for i in range(len(y_test))]\n",
        "p_fpr, p_tpr, _ = roc_curve(y_test, random_probs, pos_label=1)\n",
        "\n",
        "# roc curve for classes\n",
        "fpr = {}\n",
        "tpr = {}\n",
        "thresh ={}\n",
        "n_class = 2\n",
        "\n",
        "# for i in range(n_class):\n",
        "#     fpr[i], tpr[i], thresh[i] = roc_curve(y_test, pred_prob[:,i], pos_label=i)\n",
        "\n",
        "fpr[0], tpr[0], thresh[0] = roc_curve(y_test, pred_prob[:,0], pos_label=1)\n",
        "fpr[1], tpr[1], thresh[1] = roc_curve(y_test, pred_prob[:,1], pos_label=1)\n",
        "\n",
        "# plotting\n",
        "plt.plot(fpr[0], tpr[0], linestyle='--',color='orange', label='Empty Vector')\n",
        "plt.plot(fpr[1], tpr[1], linestyle='--',color='green', label='CARP1 WT')\n",
        "\n",
        "#plt.plot(p_fpr, p_tpr, linestyle='-', color='red')\n",
        "plt.title('Decision Tree Classifier')\n",
        "plt.xlabel('False Positive Rate')\n",
        "plt.ylabel('True Positive Rate')\n",
        "plt.legend(loc='best')\n",
        "plt.show()\n",
        "plt.savefig('Multiclass ROC',dpi=300);"
      ],
      "metadata": {
        "id": "_4aiZ_U3efZy"
      },
      "execution_count": null,
      "outputs": []
    },
    {
      "cell_type": "code",
      "source": [
        "# precision recall curve\n",
        "precision = dict()\n",
        "recall = dict()\n",
        "\n",
        "precision[0], recall[0], _ = precision_recall_curve(y_test, pred_prob[:, 0], pos_label=1)\n",
        "plt.plot(recall[0], precision[0], lw=2, label='class {}'.format(0))\n",
        "plt.xlabel(\"recall\")\n",
        "plt.ylabel(\"precision\")\n",
        "plt.legend(loc=\"best\")\n",
        "plt.title(\"precision vs. recall curve\")\n",
        "plt.show()\n",
        "\n",
        "for i in range(n_class):\n",
        "    precision[i], recall[i], _ = precision_recall_curve(y_test, pred_prob[:, i],pos_label=1)\n",
        "\n",
        "plt.plot(recall[0], precision[0],  linestyle='--',color='orange', label='Empty Vector')\n",
        "plt.plot(recall[1], precision[1],  linestyle='--',color='green', label='CARP1 WT')\n",
        "\n",
        "plt.xlabel(\"Recall\")\n",
        "plt.ylabel(\"Precision\")\n",
        "plt.legend(loc=\"best\")\n",
        "plt.title(\"Decision Tree Classifier\")\n",
        "plt.show()"
      ],
      "metadata": {
        "id": "VxkEwlyZpnSS"
      },
      "execution_count": null,
      "outputs": []
    },
    {
      "cell_type": "markdown",
      "source": [
        "### **Random Forest classifier**"
      ],
      "metadata": {
        "id": "tmIvRnDsem0p"
      }
    },
    {
      "cell_type": "code",
      "source": [
        "# Train the Random Forest classifier rs=5\n",
        "rfc = RandomForestClassifier(n_estimators=100, max_depth=None, random_state=2)\n",
        "rfc.fit(X_train, y_train)"
      ],
      "metadata": {
        "id": "aDG6W5h2ernN"
      },
      "execution_count": null,
      "outputs": []
    },
    {
      "cell_type": "code",
      "source": [
        "# Make predictions on the test set\n",
        "y_pred = rfc.predict(X_test)\n",
        "# Evaluate the accuracy of the model\n",
        "accuracy = accuracy_score(y_test, y_pred)\n",
        "precision = precision_score(y_test, y_pred)\n",
        "recall = recall_score(y_test, y_pred)\n",
        "f1 = f1_score(y_test, y_pred)\n",
        "print(f\"Accuracy Random Forest classifier: {accuracy:.2f}\")\n",
        "print(f\"Precision Random Forest classifier: {precision:.2f}\")\n",
        "print(f\"Recall Random Forest classifier: {recall:.2f}\")\n",
        "print(f\"F1 score Random Forest classifier: {f1:.2f}\")\n"
      ],
      "metadata": {
        "id": "CDQZaljrezyv"
      },
      "execution_count": null,
      "outputs": []
    },
    {
      "cell_type": "code",
      "source": [
        "kappa = cohen_kappa_score(y_test, y_pred)\n",
        "specificity = specificity_score(y_test, y_pred)\n",
        "sensitive = sensitivity_score(y_test, y_pred, average='macro')\n",
        "mae_lR = metrics.mean_absolute_error(y_test, y_pred)\n",
        "mse_LR = metrics.mean_squared_error(y_test, y_pred)\n",
        "print('Cohens kappa: %f' % kappa)\n",
        "print(f\"Specificity Random Forest classifier : {specificity:.2f}\")\n",
        "print(f\"sensitive Random Forest classifierr: {sensitive:.2f}\")\n",
        "print(f\"mae Random Forest classifier: {mae_lR:.2f}\")\n",
        "print(f\"mse Random Forest classifier: {mse_LR:.2f}\")"
      ],
      "metadata": {
        "id": "Tw4ijOebrE2O"
      },
      "execution_count": null,
      "outputs": []
    },
    {
      "cell_type": "code",
      "source": [
        "cm = confusion_matrix(y_test, y_pred)\n",
        "# Creating a dataframe for a array-formatted Confusion matrix,so it will be easy for plotting.\n",
        "cm_df = pd.DataFrame(cm,\n",
        "                     index = ['Empty Vector','CARP1 WT'],\n",
        "                     columns = ['Empty Vector','CARP1 WT'])\n",
        "# Plotting the confusion matrix\n",
        "plt.figure(figsize=(5,5))\n",
        "sns.heatmap(cm_df, annot=True)\n",
        "plt.title('Random Forest Classifier')\n",
        "plt.ylabel('Actual Values')\n",
        "plt.xlabel('Predicted Values')\n",
        "plt.show()\n",
        "sns.heatmap(cm_df/np.sum(cm_df), annot=True,\n",
        "            fmt='.2%', cmap='Blues')\n",
        "plt.title('Random Forest Classifier')\n",
        "plt.ylabel('Actual Values')\n",
        "plt.xlabel('Predicted Values')\n",
        "plt.show()"
      ],
      "metadata": {
        "id": "OW3gdBAtkyz4"
      },
      "execution_count": null,
      "outputs": []
    },
    {
      "cell_type": "code",
      "source": [
        "pred_prob = rfc.predict_proba(X_test)\n",
        "\n",
        "# roc curve for tpr = fpr\n",
        "random_probs = [0 for i in range(len(y_test))]\n",
        "p_fpr, p_tpr, _ = roc_curve(y_test, random_probs, pos_label=1)\n",
        "\n",
        "# roc curve for classes\n",
        "fpr = {}\n",
        "tpr = {}\n",
        "thresh ={}\n",
        "n_class = 2\n",
        "\n",
        "# for i in range(n_class):\n",
        "#     fpr[i], tpr[i], thresh[i] = roc_curve(y_test, pred_prob[:,i], pos_label=i)\n",
        "\n",
        "fpr[0], tpr[0], thresh[0] = roc_curve(y_test, pred_prob[:,0], pos_label=1)\n",
        "fpr[1], tpr[1], thresh[1] = roc_curve(y_test, pred_prob[:,1], pos_label=1)\n",
        "\n",
        "# plotting\n",
        "plt.plot(fpr[0], tpr[0], linestyle='--',color='orange', label='Empty Vector')\n",
        "plt.plot(fpr[1], tpr[1], linestyle='--',color='green', label='CARP1 WT')\n",
        "\n",
        "#plt.plot(p_fpr, p_tpr, linestyle='-', color='red')\n",
        "plt.title('Random Forest Classifier')\n",
        "plt.xlabel('False Positive Rate')\n",
        "plt.ylabel('True Positive Rate')\n",
        "plt.legend(loc='best')\n",
        "plt.show()\n",
        "plt.savefig('Multiclass ROC',dpi=300);"
      ],
      "metadata": {
        "id": "yynYcLOyrbO-"
      },
      "execution_count": null,
      "outputs": []
    },
    {
      "cell_type": "code",
      "source": [
        "# precision recall curve\n",
        "precision = dict()\n",
        "recall = dict()\n",
        "\n",
        "precision[0], recall[0], _ = precision_recall_curve(y_test, pred_prob[:, 0], pos_label=1)\n",
        "plt.plot(recall[0], precision[0], lw=2, label='class {}'.format(0))\n",
        "plt.xlabel(\"recall\")\n",
        "plt.ylabel(\"precision\")\n",
        "plt.legend(loc=\"best\")\n",
        "plt.title(\"Random Forest Classifier\")\n",
        "plt.show()\n",
        "\n",
        "for i in range(n_class):\n",
        "    precision[i], recall[i], _ = precision_recall_curve(y_test, pred_prob[:, i],pos_label=1)\n",
        "\n",
        "plt.plot(recall[0], precision[0],  linestyle='--',color='orange', label='Empty Vector')\n",
        "plt.plot(recall[1], precision[1],  linestyle='--',color='green', label='CARP1 WT')\n",
        "\n",
        "plt.xlabel(\"Recall\")\n",
        "plt.ylabel(\"Precision\")\n",
        "plt.legend(loc=\"best\")\n",
        "plt.title(\"Random Forest Classifier\")\n",
        "plt.show()"
      ],
      "metadata": {
        "id": "uz8S1Z4CrlzE"
      },
      "execution_count": null,
      "outputs": []
    },
    {
      "cell_type": "markdown",
      "source": [
        "### **Naive Bayes classifier**"
      ],
      "metadata": {
        "id": "xiGTSALKetgs"
      }
    },
    {
      "cell_type": "code",
      "source": [
        "# Train the Naive Bayes classifier RS=1\n",
        "nb = GaussianNB()\n",
        "nb.fit(X_train, y_train)\n",
        "# Make predictions on the test set\n",
        "y_pred = nb.predict(X_test)"
      ],
      "metadata": {
        "id": "gMK55urwgKEj"
      },
      "execution_count": null,
      "outputs": []
    },
    {
      "cell_type": "code",
      "source": [
        "# Evaluate the accuracy of the model\n",
        "accuracy = accuracy_score(y_test, y_pred)\n",
        "precision = precision_score(y_test, y_pred)\n",
        "recall = recall_score(y_test, y_pred)\n",
        "f1 = f1_score(y_test, y_pred)\n",
        "print(f\"Accuracy Naive Bayes classifier: {accuracy:.2f}\")\n",
        "print(f\"Precision Naive Bayes classifier: {precision:.2f}\")\n",
        "print(f\"Recall Naive Bayes classifier: {recall:.2f}\")\n",
        "print(f\"F1 score Naive Bayes classifier: {f1:.2f}\")"
      ],
      "metadata": {
        "id": "0xQ6MOgwgPZT"
      },
      "execution_count": null,
      "outputs": []
    },
    {
      "cell_type": "code",
      "source": [
        "kappa = cohen_kappa_score(y_test, y_pred)\n",
        "specificity = specificity_score(y_test, y_pred)\n",
        "sensitive = sensitivity_score(y_test, y_pred, average='macro')\n",
        "mae_lR = metrics.mean_absolute_error(y_test, y_pred)\n",
        "mse_LR = metrics.mean_squared_error(y_test, y_pred)\n",
        "print('Cohens kappa: %f' % kappa)\n",
        "print(f\"Specificity NB : {specificity:.2f}\")\n",
        "print(f\"sensitive NB: {sensitive:.2f}\")\n",
        "print(f\"mae NB: {mae_lR:.2f}\")\n",
        "print(f\"mse NV: {mse_LR:.2f}\")"
      ],
      "metadata": {
        "id": "OWd4WiChu0UB"
      },
      "execution_count": null,
      "outputs": []
    },
    {
      "cell_type": "code",
      "source": [
        "cm = confusion_matrix(y_test, y_pred)\n",
        "# Creating a dataframe for a array-formatted Confusion matrix,so it will be easy for plotting.\n",
        "cm_df = pd.DataFrame(cm,\n",
        "                     index = ['Empty Vector','CARP1 WT'],\n",
        "                     columns = ['Empty Vector','CARP1 WT'])\n",
        "# Plotting the confusion matrix\n",
        "plt.figure(figsize=(5,5))\n",
        "sns.heatmap(cm_df, annot=True)\n",
        "plt.title('Naive Bayes Classifier')\n",
        "plt.ylabel('Actual Values')\n",
        "plt.xlabel('Predicted Values')\n",
        "plt.show()\n",
        "sns.heatmap(cm_df/np.sum(cm_df), annot=True,\n",
        "            fmt='.2%', cmap='Blues')\n",
        "plt.title('Naive Bayes Classifier ')\n",
        "plt.ylabel('Actual Values')\n",
        "plt.xlabel('Predicted Values')\n",
        "plt.show()"
      ],
      "metadata": {
        "id": "hEwcefYEmsGq"
      },
      "execution_count": null,
      "outputs": []
    },
    {
      "cell_type": "code",
      "source": [
        "pred_prob = nb.predict_proba(X_test)\n",
        "\n",
        "\n",
        "# roc curve for tpr = fpr\n",
        "random_probs = [0 for i in range(len(y_test))]\n",
        "p_fpr, p_tpr, _ = roc_curve(y_test, random_probs, pos_label=1)\n",
        "\n",
        "# roc curve for classes\n",
        "fpr = {}\n",
        "tpr = {}\n",
        "thresh ={}\n",
        "n_class = 2\n",
        "\n",
        "# for i in range(n_class):\n",
        "#     fpr[i], tpr[i], thresh[i] = roc_curve(y_test, pred_prob[:,i], pos_label=i)\n",
        "\n",
        "fpr[0], tpr[0], thresh[0] = roc_curve(y_test, pred_prob[:,0], pos_label=1)\n",
        "fpr[1], tpr[1], thresh[1] = roc_curve(y_test, pred_prob[:,1], pos_label=1)\n",
        "\n",
        "# plotting\n",
        "plt.plot(fpr[0], tpr[0], linestyle='--',color='orange', label='Empty Vector')\n",
        "plt.plot(fpr[1], tpr[1], linestyle='--',color='green', label='CARP1 WT')\n",
        "\n",
        "#plt.plot(p_fpr, p_tpr, linestyle='-', color='red')\n",
        "plt.title('Naive Bayes Classifier')\n",
        "plt.xlabel('False Positive Rate')\n",
        "plt.ylabel('True Positive Rate')\n",
        "plt.legend(loc='best')\n",
        "plt.show()\n",
        "plt.savefig('Multiclass ROC',dpi=300);"
      ],
      "metadata": {
        "id": "Wf1EFs_Eu753"
      },
      "execution_count": null,
      "outputs": []
    },
    {
      "cell_type": "code",
      "source": [
        "# precision recall curve\n",
        "precision = dict()\n",
        "recall = dict()\n",
        "\n",
        "precision[0], recall[0], _ = precision_recall_curve(y_test, pred_prob[:, 0], pos_label=1)\n",
        "plt.plot(recall[0], precision[0], lw=2, label='class {}'.format(0))\n",
        "plt.xlabel(\"recall\")\n",
        "plt.ylabel(\"precision\")\n",
        "plt.legend(loc=\"best\")\n",
        "plt.title(\"precision vs. recall curve\")\n",
        "plt.show()\n",
        "\n",
        "for i in range(n_class):\n",
        "    precision[i], recall[i], _ = precision_recall_curve(y_test, pred_prob[:, i],pos_label=1)\n",
        "\n",
        "plt.plot(recall[0], precision[0],  linestyle='--',color='orange', label='Empty Vector')\n",
        "plt.plot(recall[1], precision[1],  linestyle='--',color='green', label='CARP1 WT')\n",
        "\n",
        "plt.xlabel(\"Recall\")\n",
        "plt.ylabel(\"Precision\")\n",
        "plt.legend(loc=\"best\")\n",
        "plt.title(\"Naive Bayes Classifier\")\n",
        "plt.show()"
      ],
      "metadata": {
        "id": "Dc7kW92ovCAF"
      },
      "execution_count": null,
      "outputs": []
    },
    {
      "cell_type": "markdown",
      "source": [
        "### **k-NN classifier**"
      ],
      "metadata": {
        "id": "6EgxwrI9et80"
      }
    },
    {
      "cell_type": "code",
      "source": [
        "# Train the k-NN classifier RS=1\n",
        "from sklearn.neighbors import KNeighborsClassifier\n",
        "knn = KNeighborsClassifier(n_neighbors=160)\n",
        "knn.fit(X_train, y_train)\n",
        "# Make predictions on the test set\n",
        "y_pred = knn.predict(X_test)"
      ],
      "metadata": {
        "id": "sZpSv9rGgwQw"
      },
      "execution_count": null,
      "outputs": []
    },
    {
      "cell_type": "code",
      "source": [
        "# Evaluate the accuracy of the model\n",
        "accuracy = accuracy_score(y_test, y_pred)\n",
        "precision = precision_score(y_test, y_pred)\n",
        "recall = recall_score(y_test, y_pred)\n",
        "f1 = f1_score(y_test, y_pred)\n",
        "print(f\"Accuracy kNN classifier: {accuracy:.2f}\")\n",
        "print(f\"Precision kNN classifier: {precision:.2f}\")\n",
        "print(f\"Recall kNN classifier: {recall:.2f}\")\n",
        "print(f\"F1 score kNN classifier: {f1:.2f}\")"
      ],
      "metadata": {
        "id": "8B6QBGhMgo5w"
      },
      "execution_count": null,
      "outputs": []
    },
    {
      "cell_type": "code",
      "source": [
        "kappa = cohen_kappa_score(y_test, y_pred)\n",
        "specificity = specificity_score(y_test, y_pred)\n",
        "sensitive = sensitivity_score(y_test, y_pred, average='macro')\n",
        "mae_lR = metrics.mean_absolute_error(y_test, y_pred)\n",
        "mse_LR = metrics.mean_squared_error(y_test, y_pred)\n",
        "print('Cohens kappa: %f' % kappa)\n",
        "print(f\"Specificity KNN : {specificity:.2f}\")\n",
        "print(f\"sensitive KNN: {sensitive:.2f}\")\n",
        "\n",
        "print(f\"mae KNN: {mae_lR:.2f}\")\n",
        "print(f\"mse KNN: {mse_LR:.2f}\")"
      ],
      "metadata": {
        "id": "m9QMKHl8vdfH"
      },
      "execution_count": null,
      "outputs": []
    },
    {
      "cell_type": "code",
      "source": [
        "cm = confusion_matrix(y_test, y_pred)\n",
        "# Creating a dataframe for a array-formatted Confusion matrix,so it will be easy for plotting.\n",
        "cm_df = pd.DataFrame(cm,\n",
        "                     index = ['Empty Vector','CARP1 WT'],\n",
        "                     columns = ['Empty Vector','CARP1 WT'])\n",
        "# Plotting the confusion matrix\n",
        "plt.figure(figsize=(5,5))\n",
        "sns.heatmap(cm_df, annot=True)\n",
        "plt.title('k-NN Classifier')\n",
        "plt.ylabel('Actual Values')\n",
        "plt.xlabel('Predicted Values')\n",
        "plt.show()\n",
        "sns.heatmap(cm_df/np.sum(cm_df), annot=True,\n",
        "            fmt='.2%', cmap='Blues')\n",
        "plt.title('k-NN Classifier')\n",
        "plt.ylabel('Actual Values')\n",
        "plt.xlabel('Predicted Values')\n",
        "plt.show()"
      ],
      "metadata": {
        "id": "t-LFxR1enh5v"
      },
      "execution_count": null,
      "outputs": []
    },
    {
      "cell_type": "code",
      "source": [
        "pred_prob = knn.predict_proba(X_test)\n",
        "\n",
        "\n",
        "\n",
        "# roc curve for tpr = fpr\n",
        "random_probs = [0 for i in range(len(y_test))]\n",
        "p_fpr, p_tpr, _ = roc_curve(y_test, random_probs, pos_label=1)\n",
        "\n",
        "# roc curve for classes\n",
        "fpr = {}\n",
        "tpr = {}\n",
        "thresh ={}\n",
        "n_class = 2\n",
        "\n",
        "# for i in range(n_class):\n",
        "#     fpr[i], tpr[i], thresh[i] = roc_curve(y_test, pred_prob[:,i], pos_label=i)\n",
        "\n",
        "fpr[0], tpr[0], thresh[0] = roc_curve(y_test, pred_prob[:,0], pos_label=1)\n",
        "fpr[1], tpr[1], thresh[1] = roc_curve(y_test, pred_prob[:,1], pos_label=1)\n",
        "\n",
        "# plotting\n",
        "plt.plot(fpr[0], tpr[0], linestyle='--',color='orange', label='Empty Vector')\n",
        "plt.plot(fpr[1], tpr[1], linestyle='--',color='green', label='CARP1 WT')\n",
        "\n",
        "#plt.plot(p_fpr, p_tpr, linestyle='-', color='red')\n",
        "plt.title('k-NN Classifier')\n",
        "plt.xlabel('False Positive Rate')\n",
        "plt.ylabel('True Positive Rate')\n",
        "plt.legend(loc='best')\n",
        "plt.show()\n",
        "plt.savefig('Multiclass ROC',dpi=300);"
      ],
      "metadata": {
        "id": "jKdn7l9ivmeP"
      },
      "execution_count": null,
      "outputs": []
    },
    {
      "cell_type": "code",
      "source": [
        "# precision recall curve\n",
        "precision = dict()\n",
        "recall = dict()\n",
        "\n",
        "precision[0], recall[0], _ = precision_recall_curve(y_test, pred_prob[:, 0], pos_label=1)\n",
        "plt.plot(recall[0], precision[0], lw=2, label='class {}'.format(0))\n",
        "plt.xlabel(\"recall\")\n",
        "plt.ylabel(\"precision\")\n",
        "plt.legend(loc=\"best\")\n",
        "plt.title(\"precision vs. recall curve\")\n",
        "plt.show()\n",
        "\n",
        "for i in range(n_class):\n",
        "    precision[i], recall[i], _ = precision_recall_curve(y_test, pred_prob[:, i],pos_label=1)\n",
        "\n",
        "plt.plot(recall[0], precision[0],  linestyle='--',color='orange', label='Empty Vector')\n",
        "plt.plot(recall[1], precision[1],  linestyle='--',color='green', label='CARP1 WT')\n",
        "\n",
        "plt.xlabel(\"Recall\")\n",
        "plt.ylabel(\"Precision\")\n",
        "plt.legend(loc=\"best\")\n",
        "plt.title(\"k-NN Classifier\")\n",
        "plt.show()"
      ],
      "metadata": {
        "id": "lu6a8swDvqkX"
      },
      "execution_count": null,
      "outputs": []
    },
    {
      "cell_type": "markdown",
      "source": [
        "### **GradientBoostingClassifier**"
      ],
      "metadata": {
        "id": "tWxGKziLgjyU"
      }
    },
    {
      "cell_type": "code",
      "source": [
        "# RS=1\n",
        "gb = GradientBoostingClassifier(n_estimators=100, learning_rate=0.5, max_depth=1, random_state=2)\n",
        "gb.fit(X_train, y_train)\n",
        "# Make predictions on the test set\n",
        "y_pred = gb.predict(X_test)"
      ],
      "metadata": {
        "id": "xDkvM56Dg-_P"
      },
      "execution_count": null,
      "outputs": []
    },
    {
      "cell_type": "code",
      "source": [
        "# Evaluate the accuracy of the model\n",
        "accuracy = accuracy_score(y_test, y_pred)\n",
        "precision = precision_score(y_test, y_pred)\n",
        "recall = recall_score(y_test, y_pred)\n",
        "f1 = f1_score(y_test, y_pred)\n",
        "print(f\"Accuracy Gradient Boosting Classifier: {accuracy:.2f}\")\n",
        "print(f\"Precision Gradient Boosting Classifier: {precision:.2f}\")\n",
        "print(f\"Recall Gradient Boosting Classifier: {recall:.2f}\")\n",
        "print(f\"F1 score Gradient Boosting Classifier: {f1:.2f}\")"
      ],
      "metadata": {
        "id": "HPeCoaqwg4ZB"
      },
      "execution_count": null,
      "outputs": []
    },
    {
      "cell_type": "code",
      "source": [
        "# kappa = cohen_kappa_score(y_test, y_pred)\n",
        "specificity = specificity_score(y_test, y_pred)\n",
        "# sensitive = sensitivity_score(y_test, y_pred)\n",
        "mae_lR = metrics.mean_absolute_error(y_test, y_pred)\n",
        "mse_LR = metrics.mean_squared_error(y_test, y_pred)\n",
        "# print('Cohens kappa: %f' % kappa)\n",
        "print(f\"Specificity GB : {specificity:.2f}\")\n",
        "# print(f\"sensitive GB: {sensitive:.2f}\")\n",
        "\n",
        "print(f\"mae GB: {mae_lR:.2f}\")\n",
        "# print(f\"mse GB: {mse_LR:.2f}\")"
      ],
      "metadata": {
        "id": "JXpxhtV2wIAA"
      },
      "execution_count": null,
      "outputs": []
    },
    {
      "cell_type": "code",
      "source": [
        "cm = confusion_matrix(y_test, y_pred)\n",
        "# Creating a dataframe for a array-formatted Confusion matrix,so it will be easy for plotting.\n",
        "cm_df = pd.DataFrame(cm,\n",
        "                     index = ['Empty Vector','CARP1 WT'],\n",
        "                     columns = ['Empty Vector','CARP1 WT'])\n",
        "# Plotting the confusion matrix\n",
        "plt.figure(figsize=(5,5))\n",
        "sns.heatmap(cm_df, annot=True)\n",
        "plt.title('Gradient Boosting Classifier')\n",
        "plt.ylabel('ActUal Values')\n",
        "plt.xlabel('Predicted Values')\n",
        "plt.show()\n",
        "sns.heatmap(cm_df/np.sum(cm_df), annot=True,\n",
        "            fmt='.2%', cmap='Blues')\n",
        "plt.title('Gradient Boosting Classifier')\n",
        "plt.ylabel('ActUal Values')\n",
        "plt.xlabel('Predicted Values')\n",
        "plt.show()"
      ],
      "metadata": {
        "id": "U7kAG7vBoUsX"
      },
      "execution_count": null,
      "outputs": []
    },
    {
      "cell_type": "code",
      "source": [
        "pred_prob = gb.predict_proba(X_test)\n",
        "\n",
        "# roc curve for tpr = fpr\n",
        "random_probs = [0 for i in range(len(y_test))]\n",
        "p_fpr, p_tpr, _ = roc_curve(y_test, random_probs, pos_label=1)\n",
        "\n",
        "# roc curve for classes\n",
        "fpr = {}\n",
        "tpr = {}\n",
        "thresh ={}\n",
        "n_class = 2\n",
        "\n",
        "# for i in range(n_class):\n",
        "#     fpr[i], tpr[i], thresh[i] = roc_curve(y_test, pred_prob[:,i], pos_label=i)\n",
        "\n",
        "fpr[0], tpr[0], thresh[0] = roc_curve(y_test, pred_prob[:,0], pos_label=1)\n",
        "fpr[1], tpr[1], thresh[1] = roc_curve(y_test, pred_prob[:,1], pos_label=1)\n",
        "\n",
        "# plotting\n",
        "plt.plot(fpr[0], tpr[0], linestyle='--',color='orange', label='Empty Vector')\n",
        "plt.plot(fpr[1], tpr[1], linestyle='--',color='green', label='CARP1 WT')\n",
        "\n",
        "#plt.plot(p_fpr, p_tpr, linestyle='-', color='red')\n",
        "plt.title('Gradient Boosting Classifier')\n",
        "plt.xlabel('False Positive Rate')\n",
        "plt.ylabel('True Positive Rate')\n",
        "plt.legend(loc='best')\n",
        "plt.show()\n",
        "plt.savefig('Multiclass ROC',dpi=300);"
      ],
      "metadata": {
        "id": "hqezXu5mwOap"
      },
      "execution_count": null,
      "outputs": []
    },
    {
      "cell_type": "code",
      "source": [
        "# precision recall curve\n",
        "precision = dict()\n",
        "recall = dict()\n",
        "\n",
        "precision[0], recall[0], _ = precision_recall_curve(y_test, pred_prob[:, 0], pos_label=1)\n",
        "plt.plot(recall[0], precision[0], lw=2, label='class {}'.format(0))\n",
        "plt.xlabel(\"recall\")\n",
        "plt.ylabel(\"precision\")\n",
        "plt.legend(loc=\"best\")\n",
        "plt.title(\"Gradient Boosting Classifier\")\n",
        "plt.show()\n",
        "\n",
        "for i in range(n_class):\n",
        "    precision[i], recall[i], _ = precision_recall_curve(y_test, pred_prob[:, i],pos_label=1)\n",
        "\n",
        "plt.plot(recall[0], precision[0],  linestyle='--',color='orange', label='Empty Vector')\n",
        "plt.plot(recall[1], precision[1],  linestyle='--',color='green', label='CARP1 WT')\n",
        "\n",
        "plt.xlabel(\"Recall\")\n",
        "plt.ylabel(\"Precision\")\n",
        "plt.legend(loc=\"best\")\n",
        "plt.title(\"Gradient Boosting Classifier\")\n",
        "plt.show()"
      ],
      "metadata": {
        "id": "YocKkXuDwTfN"
      },
      "execution_count": null,
      "outputs": []
    }
  ]
}