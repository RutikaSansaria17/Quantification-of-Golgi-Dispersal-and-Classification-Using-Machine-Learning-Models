{
  "nbformat": 4,
  "nbformat_minor": 0,
  "metadata": {
    "colab": {
      "provenance": [],
      "authorship_tag": "ABX9TyOsX7uJz1cfPwzlmt6Euygz",
      "include_colab_link": true
    },
    "kernelspec": {
      "name": "python3",
      "display_name": "Python 3"
    },
    "language_info": {
      "name": "python"
    }
  },
  "cells": [
    {
      "cell_type": "markdown",
      "metadata": {
        "id": "view-in-github",
        "colab_type": "text"
      },
      "source": [
        "<a href=\"https://colab.research.google.com/github/RutikaSansaria17/Quantification-of-Golgi-Dispersal-and-Classification-Using-Machine-Learning-Models/blob/main/roi_function_marked_yellow_boundary.ipynb\" target=\"_parent\"><img src=\"https://colab.research.google.com/assets/colab-badge.svg\" alt=\"Open In Colab\"/></a>"
      ]
    },
    {
      "cell_type": "code",
      "execution_count": null,
      "metadata": {
        "id": "1Bzfk7rYC6h2"
      },
      "outputs": [],
      "source": [
        "def roi(marked_img,image_file):\n",
        "\n",
        "  # Create a mask for the yellow boundaries\n",
        "  lower_yellow = (255, 255, 0)\n",
        "  upper_yellow = (255, 255, 0)\n",
        "  mask = cv2.inRange(marked_img, lower_yellow, upper_yellow)\n",
        "\n",
        "  # Identify each individual cell as a separate object\n",
        "  labels = measure.label(mask)\n",
        "\n",
        "  # Get the bounding box coordinates for each cell object\n",
        "  props = measure.regionprops(labels)\n",
        "\n",
        "  # Loop through each cell object and create a separate output image for each\n",
        "  output_images = []\n",
        "  for i, prop in enumerate(props):\n",
        "      x1, y1, x2, y2 = prop.bbox\n",
        "      cell_img = marked_img[x1:x2, y1:y2, :]\n",
        "\n",
        "      # Subtract the mask from the cell image to remove the yellow boundary\n",
        "      cell_img[np.where(mask[x1:x2, y1:y2])] = 0\n",
        "\n",
        "      # Create a blank image with the same dimensions as the original image\n",
        "      output = np.zeros_like(marked_img)\n",
        "\n",
        "      # Copy the cell object onto the output image\n",
        "      output[x1:x2, y1:y2, :] = cell_img\n",
        "      cel = cv2.cvtColor(output, cv2.COLOR_BGR2RGB)\n",
        "      output_images.append(cel)\n",
        "\n",
        "      # Save the output image\n",
        "      plt.imshow(output)\n",
        "      plt.axis('off')\n",
        "      # plt.savefig(f'output{i}.png')\n",
        "      plt.show()\n",
        "\n",
        "\n",
        "  for i in output_images:\n",
        "    func(i,image_file)\n",
        "\n",
        "\n",
        "  # return output\n",
        "\n"
      ]
    }
  ]
}